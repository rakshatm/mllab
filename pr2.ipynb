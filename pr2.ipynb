{
  "nbformat": 4,
  "nbformat_minor": 0,
  "metadata": {
    "colab": {
      "provenance": [],
      "authorship_tag": "ABX9TyN+uwSNXTBzCkSszbHjnD0M",
      "include_colab_link": true
    },
    "kernelspec": {
      "name": "python3",
      "display_name": "Python 3"
    },
    "language_info": {
      "name": "python"
    }
  },
  "cells": [
    {
      "cell_type": "markdown",
      "metadata": {
        "id": "view-in-github",
        "colab_type": "text"
      },
      "source": [
        "<a href=\"https://colab.research.google.com/github/rakshatm/mllab/blob/main/pr2.ipynb\" target=\"_parent\"><img src=\"https://colab.research.google.com/assets/colab-badge.svg\" alt=\"Open In Colab\"/></a>"
      ]
    },
    {
      "cell_type": "code",
      "execution_count": 11,
      "metadata": {
        "id": "uw5Tjr9qaeii"
      },
      "outputs": [],
      "source": [
        "\n",
        "\n"
      ]
    },
    {
      "cell_type": "code",
      "source": [
        "\n",
        "import pandas as pd\n",
        "\n",
        "\n",
        "df = pd.read_excel('sales_data.csv')\n",
        "\n",
        "print(df)"
      ],
      "metadata": {
        "id": "nps7vlWRjB0A",
        "outputId": "e6228f7b-8f69-48f9-c239-09524de9364d",
        "colab": {
          "base_uri": "https://localhost:8080/"
        }
      },
      "execution_count": 12,
      "outputs": [
        {
          "output_type": "stream",
          "name": "stdout",
          "text": [
            "   Customer ID  Gender  Age Product category  Price\n",
            "0      CUST001    Male   34           Beauty    150\n",
            "1      CUST002  Female   26         Clothing   1000\n",
            "2      CUST003    Male   50      Electronics     30\n",
            "3      CUST004    Male   37         Clothing    500\n",
            "4      CUST005    Male   30           Beauty    100\n",
            "5      CUST006  Female   45           Beauty     30\n",
            "6      CUST007    Male   46         Clothing     50\n",
            "7      CUST008    Male   30      Electronics    100\n",
            "8      CUST009    Male   63      Electronics    600\n",
            "9      CUST010  Female   52         Clothing    200\n",
            "10     CUST011    Male   23         Clothing    100\n",
            "11     CUST012    Male   35           Beauty     75\n",
            "12     CUST013    Male   22      Electronics   1500\n",
            "13     CUST014    Male   64         Clothing    120\n",
            "14     CUST015  Female   42      Electronics   2000\n",
            "15     CUST016    Male   19         Clothing   1500\n",
            "16     CUST017  Female   27         Clothing    100\n"
          ]
        }
      ]
    },
    {
      "cell_type": "code",
      "source": [
        "\n",
        "df['Tax (18%)'] = df['Price'] * 0.18\n",
        "\n",
        "\n",
        "print(\"Updated DataFrame with 'Tax (18%)' column:\")\n",
        "print(df)\n",
        "\n",
        "\n",
        "df.to_excel('sales_data_with_tax.xlsx', index=False)\n",
        "\n",
        "print(\"\\nNew column 'Tax (18%)' added and saved to 'sales_data_with_tax.xlsx'.\")"
      ],
      "metadata": {
        "id": "PcSWi52Hjowx",
        "outputId": "7e4fb4b6-0f31-46a3-8f11-c2d7a4a71131",
        "colab": {
          "base_uri": "https://localhost:8080/"
        }
      },
      "execution_count": 14,
      "outputs": [
        {
          "output_type": "stream",
          "name": "stdout",
          "text": [
            "Updated DataFrame with 'Tax (18%)' column:\n",
            "   Customer ID  Gender  Age Product category  Price  Tax (18%)\n",
            "0      CUST001    Male   34           Beauty    150       27.0\n",
            "1      CUST002  Female   26         Clothing   1000      180.0\n",
            "2      CUST003    Male   50      Electronics     30        5.4\n",
            "3      CUST004    Male   37         Clothing    500       90.0\n",
            "4      CUST005    Male   30           Beauty    100       18.0\n",
            "5      CUST006  Female   45           Beauty     30        5.4\n",
            "6      CUST007    Male   46         Clothing     50        9.0\n",
            "7      CUST008    Male   30      Electronics    100       18.0\n",
            "8      CUST009    Male   63      Electronics    600      108.0\n",
            "9      CUST010  Female   52         Clothing    200       36.0\n",
            "10     CUST011    Male   23         Clothing    100       18.0\n",
            "11     CUST012    Male   35           Beauty     75       13.5\n",
            "12     CUST013    Male   22      Electronics   1500      270.0\n",
            "13     CUST014    Male   64         Clothing    120       21.6\n",
            "14     CUST015  Female   42      Electronics   2000      360.0\n",
            "15     CUST016    Male   19         Clothing   1500      270.0\n",
            "16     CUST017  Female   27         Clothing    100       18.0\n",
            "\n",
            "New column 'Tax (18%)' added and saved to 'sales_data_with_tax.xlsx'.\n"
          ]
        }
      ]
    }
  ]
}